{
  "nbformat": 4,
  "nbformat_minor": 0,
  "metadata": {
    "colab": {
      "name": "Case3.ipynb",
      "provenance": [],
      "collapsed_sections": []
    },
    "kernelspec": {
      "name": "python3",
      "display_name": "Python 3"
    }
  },
  "cells": [
    {
      "cell_type": "code",
      "metadata": {
        "id": "Vyw-ucE96wZ8",
        "colab_type": "code",
        "colab": {}
      },
      "source": [
        "!apt-get install openjdk-8-jdk-headless -qq > /dev/null\n",
        "!wget -q https://downloads.apache.org/spark/spark-3.0.0-preview2/spark-3.0.0-preview2-bin-hadoop2.7.tgz\n",
        "!tar -xvf spark-3.0.0-preview2-bin-hadoop2.7.tgz\n",
        "!pip install -q findspark\n",
        "import os\n",
        "os.environ[\"JAVA_HOME\"] = \"/usr/lib/jvm/java-8-openjdk-amd64\"\n",
        "os.environ[\"SPARK_HOME\"] = \"/content/spark-3.0.0-preview2-bin-hadoop2.7\"\n",
        "import findspark\n",
        "findspark.init()"
      ],
      "execution_count": 0,
      "outputs": []
    },
    {
      "cell_type": "code",
      "metadata": {
        "id": "N8OMVyaM2iqX",
        "colab_type": "code",
        "outputId": "0c3d44c6-9567-4954-c405-399e56554834",
        "colab": {
          "base_uri": "https://localhost:8080/",
          "height": 314
        }
      },
      "source": [
        "from pyspark.sql import SparkSession\n",
        "from pyspark.sql.functions import when\n",
        "from pyspark.ml.feature import VectorAssembler, StandardScaler\n",
        "from pyspark.ml.clustering import KMeans\n",
        "from matplotlib import pyplot as plt\n",
        "\n",
        "spark = SparkSession.builder.getOrCreate()\n",
        "\n",
        "df_train = spark.read.option(\"inferschema\",\"true\").csv(\"BearTraining.csv\", header=True)\n",
        "df_train = df_train.select(\"Front Claws\", \"Hair Color\", \"Ear Shape\")\n",
        "df_train = df_train.na.drop()\n",
        "df_train = df_train.withColumn(\"Hair Color\", when(df_train[\"Hair Color\"] == \"White\", 0).when(df_train[\"Hair Color\"]==\"Blond\",1).when(df_train[\"Hair Color\"]==\"Cinnamon\",2).when(df_train[\"Hair Color\"]==\"Light Brown\",3).when(df_train[\"Hair Color\"]==\"Dark Brown\",4).otherwise(5))\n",
        "df_train = df_train.withColumn(\"Ear Shape\", when(df_train[\"Ear Shape\"] == \"Pointed\", 0).when(df_train[\"Ear Shape\"]==\"Broad\",1).otherwise(2))\n",
        "\n",
        "col_train = df_train.columns\n",
        "df_train = VectorAssembler(inputCols = col_train, outputCol = \"Vector\").transform(df_train)\n",
        "\n",
        "scaler_train = StandardScaler(inputCol = \"Vector\", outputCol=\"features\")\n",
        "df_train = scaler_train.fit(df_train).transform(df_train)\n",
        "\n",
        "df_test = spark.read.option(\"inferschema\",\"true\").csv(\"BearTesting.csv\", header=True)\n",
        "df_test = df_test.select(\"Front Claws\", \"Hair Color\", \"Ear Shape\", \"Grizzly\")\n",
        "df_test = df_test.na.drop()\n",
        "df_test = df_test.withColumn(\"Hair Color\", when(df_test[\"Hair Color\"] == \"White\", 0).when(df_test[\"Hair Color\"]==\"Blond\",1).when(df_test[\"Hair Color\"]==\"Cinnamon\",2).when(df_test[\"Hair Color\"]==\"Light Brown\",3).when(df_test[\"Hair Color\"]==\"Dark Brown\",4).otherwise(5))\n",
        "df_test = df_test.withColumn(\"Ear Shape\", when(df_test[\"Ear Shape\"] == \"Pointed\", 0).when(df_test[\"Ear Shape\"]==\"Broad\",1).otherwise(2))\n",
        "df_test = df_test.withColumn(\"Grizzly\", when(df_test[\"Grizzly\"] == \"Yes\", 1).otherwise(0))\n",
        "\n",
        "col_test = df_test.columns\n",
        "col_test.remove(\"Grizzly\")\n",
        "df_test = VectorAssembler(inputCols = col_test, outputCol = \"Vector\").transform(df_test)\n",
        "\n",
        "scaler_test = StandardScaler(inputCol = \"Vector\", outputCol=\"features\")\n",
        "df_test = scaler_test.fit(df_test).transform(df_test)\n",
        "\n",
        "kmeans = KMeans().setK(2).setSeed(1)\n",
        "model = kmeans.fit(df_train)\n",
        "predictions = model.transform(df_test)\n",
        "\n",
        "#Visualization\n",
        "predictions = predictions.toPandas()\n",
        "fig = plt.figure()\n",
        "ax = fig.add_subplot(111)\n",
        "plt.scatter(predictions[\"Front Claws\"], predictions[\"Ear Shape\"], c = predictions[\"prediction\"])\n",
        "ax.set_title('Relationship between Front Claws and Ear Shape in Cluster Prediction')\n",
        "ax.set_xlabel('Front Claws')\n",
        "ax.set_xlabel('Ear Shape')\n",
        "plt.show()\n",
        "\n",
        "c = 0\n",
        "for index, row in predictions.iterrows():\n",
        "  if row[\"Grizzly\"] == row[\"prediction\"]:\n",
        "    c = c + 1\n",
        "\n",
        "print(\"Accuracy: {}%\".format(c / len(predictions)*100))"
      ],
      "execution_count": 51,
      "outputs": [
        {
          "output_type": "display_data",
          "data": {
            "image/png": "[encoded data removed]",
            "text/plain": [
              "<Figure size 432x288 with 1 Axes>"
            ]
          },
          "metadata": {
            "tags": [],
            "needs_background": "light"
          }
        },
        {
          "output_type": "stream",
          "text": [
            "Accuracy: 79.0%\n"
          ],
          "name": "stdout"
        }
      ]
    }
  ]
}